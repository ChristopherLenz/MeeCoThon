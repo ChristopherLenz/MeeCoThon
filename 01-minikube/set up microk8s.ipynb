{
 "cells": [
  {
   "cell_type": "markdown",
   "metadata": {},
   "source": [
    "# Minikube\n",
    "https://github.com/ubuntu/microk8s/\n",
    "https://microk8s.io/"
   ]
  },
  {
   "cell_type": "markdown",
   "metadata": {},
   "source": [
    "## start"
   ]
  },
  {
   "cell_type": "code",
   "execution_count": null,
   "metadata": {},
   "outputs": [],
   "source": [
    "# do this in a terminal (sudo needed)\n",
    "microk8s start"
   ]
  },
  {
   "cell_type": "markdown",
   "metadata": {},
   "source": [
    "## addons"
   ]
  },
  {
   "cell_type": "code",
   "execution_count": null,
   "metadata": {
    "scrolled": true
   },
   "outputs": [],
   "source": [
    "# do this in a terminal (sudo needed)\n",
    "microk8s enable helm3 dns ingress"
   ]
  },
  {
   "cell_type": "markdown",
   "metadata": {},
   "source": [
    "## echo-server deployment\n",
    "This step will deploy an sample echo-server\n",
    "\n",
    "- HELM Hub: https://hub.helm.sh/charts/ealenn/echo-server\n",
    "- Github: https://github.com/Ealenn/Echo-Server"
   ]
  },
  {
   "cell_type": "code",
   "execution_count": null,
   "metadata": {
    "scrolled": true
   },
   "outputs": [],
   "source": [
    "# add the external HELM-repo\n",
    "microk8s helm3 repo add ealenn https://ealenn.github.io/charts\n",
    "microk8s helm3 repo update\n",
    "\n",
    "# create kubernetes namespace and ignore if it already exists\n",
    "microk8s kubectl create namespace ebiz || true\n",
    "\n",
    "# install echo-server\n",
    "microk8s helm3 upgrade -i ebiz-echo ealenn/echo-server --namespace ebiz \\\n",
    "  --set ingress.enabled=true \\\n",
    "  --set ingress.hosts[0].host=\"ebiz.microk8s\" --set ingress.hosts[0].paths[0]=\"/\""
   ]
  },
  {
   "cell_type": "code",
   "execution_count": null,
   "metadata": {},
   "outputs": [],
   "source": [
    "# get all resources for the 'ebiz' namespace\n",
    "microk8s kubectl get pods,deployments,services,ingresses --namespace ebiz\n",
    "\n",
    "# check the echo-server\n",
    "curl ebiz.microk8s | jq"
   ]
  },
  {
   "cell_type": "markdown",
   "metadata": {},
   "source": [
    "## status"
   ]
  },
  {
   "cell_type": "code",
   "execution_count": null,
   "metadata": {},
   "outputs": [],
   "source": [
    "microk8s status"
   ]
  },
  {
   "cell_type": "markdown",
   "metadata": {},
   "source": [
    "## stop"
   ]
  },
  {
   "cell_type": "code",
   "execution_count": null,
   "metadata": {
    "scrolled": true
   },
   "outputs": [],
   "source": [
    "# do this in a terminal (sudo needed)\n",
    "microk8s stop"
   ]
  },
  {
   "cell_type": "markdown",
   "metadata": {},
   "source": [
    "## start again"
   ]
  },
  {
   "cell_type": "code",
   "execution_count": null,
   "metadata": {},
   "outputs": [],
   "source": [
    "# do this in a terminal (sudo needed)\n",
    "microk8s start"
   ]
  },
  {
   "cell_type": "markdown",
   "metadata": {},
   "source": [
    "## dashboard"
   ]
  },
  {
   "cell_type": "code",
   "execution_count": null,
   "metadata": {
    "scrolled": true
   },
   "outputs": [],
   "source": [
    "microk8s enable dashboard\n",
    "token=$(microk8s kubectl -n kube-system get secret | grep default-token | cut -d \" \" -f1)\n",
    "microk8s kubectl -n kube-system describe secret $token\n",
    "echo \"you can open the dashboard via: https://127.0.0.1:10443/\"\n",
    "echo \"if you get an certificate error type 'thisisunsafe' directly in the tab\"\n",
    "microk8s kubectl port-forward -n kube-system service/kubernetes-dashboard 10443:443"
   ]
  },
  {
   "cell_type": "markdown",
   "metadata": {},
   "source": [
    "## delete"
   ]
  },
  {
   "cell_type": "code",
   "execution_count": null,
   "metadata": {},
   "outputs": [],
   "source": [
    "# do this in a terminal (sudo needed)\n",
    "microk8s stop && sudo snap remove microk8s"
   ]
  },
  {
   "cell_type": "code",
   "execution_count": null,
   "metadata": {},
   "outputs": [],
   "source": []
  }
 ],
 "metadata": {
  "kernelspec": {
   "display_name": "Bash",
   "language": "bash",
   "name": "bash"
  },
  "language_info": {
   "codemirror_mode": "shell",
   "file_extension": ".sh",
   "mimetype": "text/x-sh",
   "name": "bash"
  }
 },
 "nbformat": 4,
 "nbformat_minor": 4
}
