{
 "cells": [
  {
   "cell_type": "markdown",
   "metadata": {},
   "source": [
    "# Minikube"
   ]
  },
  {
   "cell_type": "markdown",
   "metadata": {},
   "source": [
    "## start"
   ]
  },
  {
   "cell_type": "code",
   "execution_count": null,
   "metadata": {},
   "outputs": [],
   "source": [
    "KUBERNETES_VERSION=\"v1.18.0\"\n",
    "\n",
    "minikube start \\\n",
    "    --memory 4096 \\\n",
    "    --cpus 2 \\\n",
    "    --kubernetes-version=\"$KUBERNETES_VERSION\""
   ]
  },
  {
   "cell_type": "markdown",
   "metadata": {},
   "source": [
    "## addons"
   ]
  },
  {
   "cell_type": "code",
   "execution_count": null,
   "metadata": {},
   "outputs": [],
   "source": [
    "minikube addons list\n",
    "minikube addons enable metrics-server && minikube addons enable ingress"
   ]
  },
  {
   "cell_type": "markdown",
   "metadata": {},
   "source": [
    "## ip"
   ]
  },
  {
   "cell_type": "code",
   "execution_count": null,
   "metadata": {},
   "outputs": [],
   "source": [
    "MINIKUBE_IP=$(minikube ip)\n",
    "\n",
    "echo \"Minikube is installed and available via '$MINIKUBE_IP'. If the IP changed since the last start you need to update your hosts file (sudo vim /etc/hosts)\""
   ]
  },
  {
   "cell_type": "markdown",
   "metadata": {},
   "source": [
    "## echo-server deployment\n",
    "This step will deploy an sample echo-server\n",
    "\n",
    "- HELM Hub: https://hub.helm.sh/charts/ealenn/echo-server\n",
    "- Github: https://github.com/Ealenn/Echo-Server"
   ]
  },
  {
   "cell_type": "code",
   "execution_count": null,
   "metadata": {},
   "outputs": [],
   "source": [
    "# add the external HELM-repo\n",
    "helm repo add ealenn https://ealenn.github.io/charts\n",
    "helm repo update\n",
    "\n",
    "# create kubernetes namespace and ignore if it already exists\n",
    "kubectl create namespace ebiz || true\n",
    "\n",
    "# install echo-server\n",
    "helm upgrade -i ebiz-echo ealenn/echo-server --namespace ebiz \\\n",
    "  --set ingress.enabled=true \\\n",
    "  --set ingress.hosts[0].host=\"ebiz.local\" --set ingress.hosts[0].paths[0]=\"/\""
   ]
  },
  {
   "cell_type": "code",
   "execution_count": null,
   "metadata": {},
   "outputs": [],
   "source": [
    "# get all resources for the 'ebiz' namespace\n",
    "kubectl get pods,deployments,services,ingresses --namespace ebiz\n",
    "\n",
    "# check the echo-server\n",
    "curl ebiz.local | jq"
   ]
  },
  {
   "cell_type": "markdown",
   "metadata": {},
   "source": [
    "## status"
   ]
  },
  {
   "cell_type": "code",
   "execution_count": null,
   "metadata": {},
   "outputs": [],
   "source": [
    "minikube status"
   ]
  },
  {
   "cell_type": "markdown",
   "metadata": {},
   "source": [
    "## stop"
   ]
  },
  {
   "cell_type": "code",
   "execution_count": null,
   "metadata": {},
   "outputs": [],
   "source": [
    "minikube stop"
   ]
  },
  {
   "cell_type": "markdown",
   "metadata": {},
   "source": [
    "## start again"
   ]
  },
  {
   "cell_type": "code",
   "execution_count": null,
   "metadata": {},
   "outputs": [],
   "source": [
    "minikube start"
   ]
  },
  {
   "cell_type": "markdown",
   "metadata": {},
   "source": [
    "## dashboard"
   ]
  },
  {
   "cell_type": "code",
   "execution_count": null,
   "metadata": {},
   "outputs": [],
   "source": [
    "minikube dashboard"
   ]
  },
  {
   "cell_type": "markdown",
   "metadata": {},
   "source": [
    "## delete"
   ]
  },
  {
   "cell_type": "code",
   "execution_count": null,
   "metadata": {},
   "outputs": [],
   "source": [
    "minikube stop\n",
    "minikube delete"
   ]
  },
  {
   "cell_type": "code",
   "execution_count": null,
   "metadata": {},
   "outputs": [],
   "source": []
  }
 ],
 "metadata": {
  "kernelspec": {
   "display_name": "Bash",
   "language": "bash",
   "name": "bash"
  },
  "language_info": {
   "codemirror_mode": "shell",
   "file_extension": ".sh",
   "mimetype": "text/x-sh",
   "name": "bash"
  }
 },
 "nbformat": 4,
 "nbformat_minor": 4
}
